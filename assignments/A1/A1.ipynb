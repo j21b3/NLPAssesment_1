{
 "cells": [
  {
   "cell_type": "markdown",
   "metadata": {
    "id": "wI4A-T0z5AU6"
   },
   "source": [
    "# Assignment 1\n",
    "You should submit the **UniversityNumber.ipynb** file and your final prediction file **UniversityNumber.test.out** to moodle. Make sure your code does not use your local files and that the results are reproducible. Before submitting, please **run your notebook and keep all running logs** so that we can check."
   ]
  },
  {
   "cell_type": "markdown",
   "metadata": {
    "id": "gEomoMzH5Nf6"
   },
   "source": [
    "## 1 $n$-gram Language Model"
   ]
  },
  {
   "cell_type": "code",
   "execution_count": null,
   "metadata": {
    "id": "YsSAtTqt7Q8a"
   },
   "outputs": [],
   "source": [
    "!wget -O train.txt https://raw.githubusercontent.com/ranpox/comp7607-fall2022/main/assignments/A1/data/lm/train.txt\n",
    "!wget -O dev.txt https://raw.githubusercontent.com/ranpox/comp7607-fall2022/main/assignments/A1/data/lm/dev.txt\n",
    "!wget -O test.txt https://raw.githubusercontent.com/ranpox/comp7607-fall2022/main/assignments/A1/data/lm/test.txt"
   ]
  },
  {
   "cell_type": "markdown",
   "metadata": {
    "id": "7ElrINWW7oF7"
   },
   "source": [
    "### 1.1 Building vocabulary"
   ]
  },
  {
   "cell_type": "markdown",
   "metadata": {
    "id": "eawcuVV19kZm"
   },
   "source": [
    "#### Code"
   ]
  },
  {
   "cell_type": "code",
   "execution_count": 1,
   "metadata": {
    "id": "q-rNT_QL8Dvt"
   },
   "outputs": [
    {
     "name": "stdout",
     "output_type": "stream",
     "text": [
      "vocabulary size: 20661\n"
     ]
    }
   ],
   "source": [
    "import numpy as np\n",
    "from collections import defaultdict\n",
    "\n",
    "# So, build the model based on make the vocabulary set on training set\n",
    "f = open(\"./data/lm/train.txt\",'r+',encoding=\"utf-8\")\n",
    "lines = []\n",
    "s = set([\"<s>\",\"</s>\",\"<UNK>\"])\n",
    "sentences = []\n",
    "for line in f.readlines():\n",
    "    # some lines are still end with \\n, need to remove \\n\n",
    "    line = line.strip()\n",
    "    tmp = line.split(' ')\n",
    "    sentences.append(tmp)\n",
    "    for word in tmp:\n",
    "        s.add(word.lower())\n",
    "f.close()\n",
    "\n",
    "word_list = sorted(list(s))\n",
    "\n",
    "word_count = defaultdict(int)\n",
    "\n",
    "\n",
    "# count every word\n",
    "for sen in sentences:\n",
    "    for word in sen:\n",
    "        word_count[word.lower()]+=1\n",
    "\n",
    "# calculate <UNK>\n",
    "word_count_dic = {\"<UNK>\":0}\n",
    "for key in word_list:\n",
    "    value = word_count[key]\n",
    "    if value<3:\n",
    "        word_count_dic[\"<UNK>\"]+=1\n",
    "    else:\n",
    "        word_count_dic[key]=value\n",
    "\n",
    "word_list = sorted(word_count_dic.keys())\n",
    "word_dic = {key:idx for (idx,key) in enumerate(word_list)}\n",
    "tmp = []\n",
    "for key in word_dic:\n",
    "    tmp.append(word_count_dic[key])\n",
    "word_count = np.array(tmp)\n",
    "\n",
    "# change sentence to id list\n",
    "\n",
    "tmp_sentences = []\n",
    "for sentence in sentences:\n",
    "    tmp = []\n",
    "    for word in sentence:\n",
    "        word = word.lower()\n",
    "        if word in word_dic:\n",
    "            tmp.append(word_dic[word])\n",
    "        else:\n",
    "            tmp.append(word_dic[\"<UNK>\"])\n",
    "    tmp_sentences.append(tmp[:])\n",
    "sentences = tmp_sentences\n",
    "\n",
    "#vocabulary size\n",
    "print(\"vocabulary size: %d\"%len(word_list))\n",
    "\n",
    "del word_list\n",
    "del word_count_dic\n",
    "del tmp\n",
    "\n",
    "\n",
    "# word_dic : the map between words and id, \n",
    "# word_count : the number of each word organized with id\n",
    "# sentences : sentences in training data"
   ]
  },
  {
   "cell_type": "markdown",
   "metadata": {
    "id": "e7oBATsX8uHb"
   },
   "source": [
    "#### Discussion"
   ]
  },
  {
   "cell_type": "markdown",
   "metadata": {},
   "source": [
    "Please show the vocabulary size and discuss the number of parameters of n-gram models."
   ]
  },
  {
   "cell_type": "markdown",
   "metadata": {
    "id": "PU6VpAkS9odh"
   },
   "source": [
    "The vocabulary size is 20,661, not including `<s>` and `</s>` characters. So, as for the number of parameters of n-gram models, when the n increases, the number of parameters increases sharply. For example, when n is 1 in this case, the number of parameters is 22,629 which is the vocabulary size. When n is 2, the vocabulary size is 426,876,921 which is the square of vocabulary size. For n equals 3, the vocabulary size is the cube of vocabulary size : 11,589,205,447,000. If we use a float variable to store a single probability, it would use around 32TB memory. So, the bigger n we have, more memory would be used by probability matrix. "
   ]
  },
  {
   "cell_type": "markdown",
   "metadata": {
    "id": "lJ2BGUig8TqH"
   },
   "source": [
    "### 1.2 $n$-gram Language Modeling"
   ]
  },
  {
   "cell_type": "markdown",
   "metadata": {},
   "source": [
    "After preparing your vocabulary, you are expected to build bigram and unigram language models and report their perplexity on the training set, and dev set. Please discuss your experimental results. If you encounter any problems, please analyze them and explain why."
   ]
  },
  {
   "cell_type": "markdown",
   "metadata": {
    "id": "jeyANMPe9ad_"
   },
   "source": [
    "#### Code"
   ]
  },
  {
   "cell_type": "code",
   "execution_count": 2,
   "metadata": {
    "id": "ACSfNZGE8Yw2"
   },
   "outputs": [],
   "source": [
    "from nltk.util import bigrams\n",
    "from collections import Counter\n",
    "import math\n",
    "import string\n"
   ]
  },
  {
   "cell_type": "markdown",
   "metadata": {},
   "source": [
    "##### Model Definition"
   ]
  },
  {
   "cell_type": "code",
   "execution_count": 3,
   "metadata": {},
   "outputs": [],
   "source": [
    "# unigram language model\n",
    "# as for n=1, I only need to calculate every words' count and then calculate the probability matrix\n",
    "# which is quite easy to write\n",
    "# the probability matrix would look like this:\n",
    "#           [P_0, P_1, P_2, P_3, ...... , P_n, P_start, P_end]\n",
    "#           P_start, P_end are the probability of start padding and end padding\n",
    "\n",
    "class UnigramModel:\n",
    "    def __init__(self, sentences,word_dic,word_count,file = \"\"):\n",
    "        if file!=\"\":\n",
    "            self.uniProb = np.load(file)\n",
    "        else:\n",
    "            self.uniProb = self.__cal_prob(sentence,word_dic,word_count)\n",
    "        self.word_dic = word_dic\n",
    "        \n",
    "    # calculate the probability array\n",
    "    def __cal_prob(self,sentences,word_dic,word_count):\n",
    "        startpad, endpad = len(sentences),len(sentences)\n",
    "        count = startpad+endpad\n",
    "        for nu in word_count:\n",
    "            count += nu\n",
    "\n",
    "        uniProb = [0.0] * (len(word_dic)+2)\n",
    "        for i in range(len(word_dic)):\n",
    "            uniProb[i] = word_count[i] / count\n",
    "        uniProb[-2] = startpad / count\n",
    "        uniProb[-1] = endpad / count\n",
    "        return np.array(uniProb)"
   ]
  },
  {
   "cell_type": "code",
   "execution_count": 4,
   "metadata": {},
   "outputs": [],
   "source": [
    "# run the model and save the results\n",
    "uni = UnigramModel(sentences,word_dic,word_count)\n",
    "np.save(\"./unigram.npy\",uni.uniProb)"
   ]
  },
  {
   "cell_type": "code",
   "execution_count": 5,
   "metadata": {},
   "outputs": [],
   "source": [
    "uni = UnigramModel(sentences,word_dic,word_count,file=\"./unigram.npy\")"
   ]
  },
  {
   "cell_type": "code",
   "execution_count": 6,
   "metadata": {},
   "outputs": [],
   "source": [
    "# bigram language model\n",
    "# the probability matrix would look like this:\n",
    "#    first word(i) /second word(j)\n",
    "#           [w_0, w_1, w_2, w_3, ...... , w_n, startpad, endpad]\n",
    "#     [w_0]\n",
    "#     ......\n",
    "#     [startpad]\n",
    "#     [endpad] this line is meaningless, deleted\n",
    "#                       matrix[i][j] = P(j|i)\n",
    "\n",
    "class BigramModel:\n",
    "    def __init__(self,sentences,word_dic,word_count,file = \"\"):\n",
    "        if file != \"\":\n",
    "            self.biProb = np.load(file)\n",
    "        else:\n",
    "            # self.uniProb = UnigramModel(sentences,word_dic,word_count).uniProb\n",
    "            self.biProb = self.__cal_prob(sentences,word_dic,word_count)\n",
    "        self.word_dic = word_dic\n",
    "    \n",
    "    # calculate the probability matrix\n",
    "    def __cal_prob(self,sentences,word_dic,word_count):\n",
    "        count_matrix = np.zeros((len(word_dic)+1,len(word_dic)+2),dtype=float)\n",
    "        startpad,endpad = len(word_dic),len(word_dic)+1\n",
    "        for sen in sentences:\n",
    "            for (before,after) in bigrams(sen,pad_left=True, pad_right=True, left_pad_symbol=startpad, right_pad_symbol=endpad):\n",
    "                count_matrix[before][after] += 1\n",
    "        \n",
    "        # add <s> at the end of word_count, which is equal to the number of sentences\n",
    "        word_count = np.append(word_count,np.array([len(sentences)]))\n",
    "        for i in range(len(count_matrix)):\n",
    "            for j in range(len(count_matrix[0])):\n",
    "                count_matrix[i][j] /= word_count[i]\n",
    "        return count_matrix\n",
    "\n"
   ]
  },
  {
   "cell_type": "code",
   "execution_count": 7,
   "metadata": {},
   "outputs": [],
   "source": [
    "# calculate the model and save it to disk\n",
    "bi = BigramModel(sentences,word_dic,word_count)    \n",
    "\n",
    "np.save(\"./bigram.npy\",bi.biProb)"
   ]
  },
  {
   "cell_type": "code",
   "execution_count": 7,
   "metadata": {},
   "outputs": [],
   "source": [
    "# read model from file\n",
    "bi = BigramModel(sentences,word_dic,word_count,\"./bigram.npy\")"
   ]
  },
  {
   "cell_type": "markdown",
   "metadata": {},
   "source": [
    "##### calculate perplexity "
   ]
  },
  {
   "cell_type": "code",
   "execution_count": 8,
   "metadata": {},
   "outputs": [],
   "source": [
    "# calculate ppl of uni-gram model\n",
    "def uni_ppl(un:UnigramModel,filePath:string):\n",
    "    f = open(filePath,\"r\",encoding=\"utf-8\")\n",
    "    su = 0.0\n",
    "    unkidx = word_dic[\"<UNK>\"]\n",
    "    M = 0\n",
    "    for line in f.readlines():\n",
    "        line = line.strip()\n",
    "        words = line.split(\" \")\n",
    "        \n",
    "        M += len(words)\n",
    "        fail = False\n",
    "        for word in words:\n",
    "            word = word.lower()\n",
    "            if word in word_dic:\n",
    "                su += math.log2(un.uniProb[word_dic[word]])\n",
    "            else:\n",
    "                su += math.log2(un.uniProb[unkidx])\n",
    "                \n",
    "        \n",
    "        # for </s> multiply this probability\n",
    "        su += math.log2(un.uniProb[-1])\n",
    "\n",
    "    f.close()\n",
    "\n",
    "    l = su/M\n",
    "    # print(\"this is l\",l)\n",
    "    ppl = math.pow(2,-l)\n",
    "    print(\"the perplexity of this uni-gram model on %s is:%f\"%(filePath,ppl))"
   ]
  },
  {
   "cell_type": "code",
   "execution_count": 9,
   "metadata": {},
   "outputs": [
    {
     "name": "stdout",
     "output_type": "stream",
     "text": [
      "the perplexity of this uni-gram model on ./data/lm/train.txt is:1342.968477\n",
      "the perplexity of this uni-gram model on ./data/lm/dev.txt is:1291.994081\n"
     ]
    }
   ],
   "source": [
    "un = UnigramModel(sentences,word_dic,word_count,\"./unigram.npy\")\n",
    "uni_ppl(un,\"./data/lm/train.txt\")\n",
    "uni_ppl(un,\"./data/lm/dev.txt\")"
   ]
  },
  {
   "cell_type": "code",
   "execution_count": 10,
   "metadata": {},
   "outputs": [],
   "source": [
    "# calculate perplexity of bi-gram model\n",
    "def bi_ppl(bi:BigramModel, filePath:string):\n",
    "    f = open(filePath,\"r\",encoding=\"utf-8\")\n",
    "    su = 0.0\n",
    "    unkidx = word_dic[\"<UNK>\"]\n",
    "    M = 0\n",
    "    for line in f.readlines():\n",
    "        line=line.strip()\n",
    "        words = line.split(\" \")\n",
    "        M += (len(words)+2)\n",
    "        # cur state at <s> which is -1 index\n",
    "        cur = -1\n",
    "        p = 0.0\n",
    "        fail = False\n",
    "        for word in words:\n",
    "            word = word.lower()\n",
    "            if word not in word_dic:\n",
    "                nextstep = unkidx\n",
    "            else:\n",
    "                nextstep = word_dic[word]\n",
    "            if bi.biProb[cur][nextstep]==0:\n",
    "                fail = True\n",
    "                break\n",
    "            else:\n",
    "                p += math.log2(bi.biProb[cur][nextstep])\n",
    "                cur = nextstep\n",
    "                \n",
    "        if not fail and bi.biProb[cur][-1]!=0:\n",
    "            p += math.log2(bi.biProb[cur][-1]) # for </s> multiply this probability\n",
    "            su += p\n",
    "        else:\n",
    "            su += float(\"-inf\")\n",
    "    f.close()\n",
    "    l = su/M\n",
    "    ppl = math.pow(2,-l)\n",
    "    print(\"the perplexity of this bi-gram model on %s is:%f\"%(filePath,ppl))"
   ]
  },
  {
   "cell_type": "code",
   "execution_count": 11,
   "metadata": {},
   "outputs": [
    {
     "name": "stdout",
     "output_type": "stream",
     "text": [
      "the perplexity of this bi-gram model on ./data/lm/train.txt is:60.886884\n",
      "the perplexity of this bi-gram model on ./data/lm/dev.txt is:inf\n"
     ]
    }
   ],
   "source": [
    "bi = BigramModel(sentences,word_dic,word_count,\"./bigram.npy\")\n",
    "bi_ppl(bi,\"./data/lm/train.txt\")\n",
    "bi_ppl(bi,\"./data/lm/dev.txt\")"
   ]
  },
  {
   "cell_type": "markdown",
   "metadata": {
    "id": "SRWC56a19TbY"
   },
   "source": [
    "#### Discussion"
   ]
  },
  {
   "cell_type": "markdown",
   "metadata": {
    "id": "sM4gcgL--Ylh"
   },
   "source": [
    "##### Problem Encountered"
   ]
  },
  {
   "cell_type": "markdown",
   "metadata": {},
   "source": [
    "During this process, I meet 2 diffient problems both related to how to calculate the perplexity. The one problem is occurred when calculate $p(x^{(i)})$, where $x^{(i)}$ is the $i^{th}$ sentence in the test set. The other problem happens when calculate the perplexity of bi-gran model."
   ]
  },
  {
   "cell_type": "markdown",
   "metadata": {},
   "source": [
    "+ Question 1\n",
    "\n",
    "    The main issue of the first problem is mainly related to the represent ability of a float number, because Python uses float type to store decimal numbers. When a dicimal number is smaller than 0.00000001, the result of this number would be zero and this would lead to value error when I run log2 function. To resolve this problem, I use another way to calculate the perplexity. The definition of perplexity is listed below:\n",
    "    $$ l = {{{1} \\over {M}}  \\sum^{m}_{i=1} \\log_{2}{p(x^{(i)})}}  $$\n",
    "    $$ ppl = 2^{-l} $$\n",
    "    $$ {{p(x^{(i)})} = \\prod_{j=0}^n p(w_j|w_{j-1})} \\text{\\quad where $w_j$ is the $j^{th}$ word in $sentence_i$, n=len($sentence_i$)} $$ \n",
    "    Because if I calculate $p(x^{(i)})$ roughly, $p(x^{(i)})$ would be too small to store in a float type number. So I decide to use this   function to calculate $l$:\n",
    "    $$ l = {{{1} \\over {M}}  \\sum^{m}_{i=1} \\sum^{n}_{j=0} \\log_{2}{p(w_j|w_{j-1})}} $$\n",
    "    $$\\text{\\quad where $w_j$ is the $j^{th}$ word in $sentence_i$, $w_{-1}$=\"<s>\", n=len($sentence_i$)},m=len(sentences) $$\n",
    "    With this function, the result of calculating perplexity would not be too small, so that the perplexity can be calculated successfully. "
   ]
  },
  {
   "cell_type": "markdown",
   "metadata": {},
   "source": [
    "+ Question 2 \n",
    "\n",
    "    As for the second problem, it occored when $p(w_j|w_{j-1})$ equals 0 during testing bi-gram model. The mainly reason could be that the train set is not large enough to make sure that every possible $p(w_j|w_{j-1})$ is included. If a word set ($w_{j-1}$,$w_j$) is met and the probability $p(w_j|w_{j-1})$ equals zero, then the test prosess would be terminated because there is no probability to generate a sentence like the test sentence. \n",
    "\n",
    "    In this case, the $l$ should be self defigned in the program because calculating $\\log_{2}0$ is actually an error mathmatically. So in the actual program, when then program test a sentence failed because $p(w_j|w_{j-1})=0$, it is better to add a punishment to the attribute $l$, I choose to add $-\\infty$ as the result of $\\sum^{n}_{j=0} \\log_{2}{p(w_j|w_{j-1})}$ because $\\lim_{x\\rightarrow{0}}\\log_{2}x=-\\infty$."
   ]
  },
  {
   "cell_type": "markdown",
   "metadata": {},
   "source": [
    "##### Result Discussion"
   ]
  },
  {
   "cell_type": "markdown",
   "metadata": {},
   "source": [
    "The perplexity of uni-gram model is around $1342.968477$ on training set and $1291.994081$ on dev set, and the perplexity of the bi-gram model is $60.886884$ on training set and $\\infty$ on dev set."
   ]
  },
  {
   "cell_type": "markdown",
   "metadata": {},
   "source": [
    "As for the uni-gram model, the perplexity is quite high, which means this model cannot predict the sentences in the set. I believe the main reason is that this model only is contained the probability of each words and every sentence is generated in a certain probability. There are some uknown words in the dev set, in perplexity calculate process these words are be selected to <UNK> word, as a result the perplexity on dev set would be smaller than that on train set."
   ]
  },
  {
   "cell_type": "markdown",
   "metadata": {},
   "source": [
    "As for the bi-gram model, the perplexity on dev set is infinite, which means this model is terrible.  Actually, in the probability matrix generated by the bi-gram model, nearly 99.9% of the conditional probability are 0. This would caused by the size of training set, if the training set is not large enough, it is possible that the probability matrix calculated by the bi-gram model could not contains every possible two word set in the real world. Therefore, the perplexity could be infinite."
   ]
  },
  {
   "cell_type": "code",
   "execution_count": 12,
   "metadata": {},
   "outputs": [
    {
     "name": "stdout",
     "output_type": "stream",
     "text": [
      "the probability is 0 occupied: 99.885346%\n"
     ]
    }
   ],
   "source": [
    "le,wid = len(bi.biProb),len(bi.biProb[0])\n",
    "t = le*wid\n",
    "for i in range(le):\n",
    "    for j in range(wid):\n",
    "        if bi.biProb[i][j]!=0:\n",
    "            t-=1\n",
    "print(\"the probability is 0 occupied: %f%%\"%(t/le/wid*100))"
   ]
  },
  {
   "cell_type": "markdown",
   "metadata": {},
   "source": [
    "However, I believe that there is some ways that can improve this model. Firstly, increasing the size of training data. Secondly, using smoothing to give little probability to every zero members in the probability matrix. Finally, combining the bi-gram model with the uni-gram model."
   ]
  },
  {
   "cell_type": "markdown",
   "metadata": {
    "id": "cuLL8CH1Ua-3"
   },
   "source": [
    "### 1.3 Smoothing"
   ]
  },
  {
   "cell_type": "markdown",
   "metadata": {
    "id": "r7mWQhaCUixZ"
   },
   "source": [
    "#### 1.3.1 Add-one (Laplace) smoothing"
   ]
  },
  {
   "cell_type": "markdown",
   "metadata": {
    "id": "ZbbHxLDmVrz6"
   },
   "source": [
    "##### Code"
   ]
  },
  {
   "cell_type": "code",
   "execution_count": 13,
   "metadata": {
    "id": "93_yLu9dVr0C"
   },
   "outputs": [],
   "source": [
    "class AddOneBigramModel:\n",
    "    def __init__(self,sentences,word_dic,word_count,file = \"\"):\n",
    "        if file != \"\":\n",
    "            self.biProb = np.load(file)\n",
    "        else:\n",
    "            # self.uniProb = UnigramModel(sentences,word_dic,word_count).uniProb\n",
    "            self.biProb = self.__cal_prob(sentences,word_dic,word_count)\n",
    "        self.word_dic = word_dic\n",
    "    \n",
    "    # with add-one smoothing\n",
    "    def __cal_prob(self,sentences,word_dic,word_count):\n",
    "        # for the one in add one smoothing\n",
    "        count_matrix = np.ones((len(word_dic)+1,len(word_dic)+2),dtype=float)\n",
    "        startpad,endpad = len(word_dic),len(word_dic)+1\n",
    "        for sen in sentences:\n",
    "            for (before,after) in bigrams(sen,pad_left=True, pad_right=True, left_pad_symbol=startpad, right_pad_symbol=endpad):\n",
    "                count_matrix[before][after] += 1\n",
    "        \n",
    "        V = len(word_dic)+2\n",
    "        # add <s> at the end of word_count, which is equal to the number of sentences\n",
    "        word_count = np.append(word_count,np.array([len(sentences)]))\n",
    "\n",
    "        for i in range(len(count_matrix)):\n",
    "            for j in range(len(count_matrix[0])):\n",
    "                if count_matrix[i][j] != 0:\n",
    "                    count_matrix[i][j] /= (word_count[i]+V)\n",
    "        return count_matrix\n"
   ]
  },
  {
   "cell_type": "code",
   "execution_count": 14,
   "metadata": {},
   "outputs": [],
   "source": [
    "AddOneSmoothing = AddOneBigramModel(sentences,word_dic,word_count)\n",
    "np.save(\"addone.npy\",AddOneSmoothing.biProb)\n"
   ]
  },
  {
   "cell_type": "code",
   "execution_count": 15,
   "metadata": {},
   "outputs": [
    {
     "name": "stdout",
     "output_type": "stream",
     "text": [
      "the perplexity of this bi-gram model on ./data/lm/train.txt is:616.761618\n",
      "the perplexity of this bi-gram model on ./data/lm/dev.txt is:701.757009\n"
     ]
    }
   ],
   "source": [
    "AddOneSmoothing = AddOneBigramModel(sentences,word_dic,word_count,file=\"./addone.npy\")\n",
    "bi_ppl(AddOneSmoothing,\"./data/lm/train.txt\")\n",
    "bi_ppl(AddOneSmoothing,\"./data/lm/dev.txt\")"
   ]
  },
  {
   "cell_type": "markdown",
   "metadata": {
    "id": "8y1WOQtsVr0D"
   },
   "source": [
    "##### Discussion"
   ]
  },
  {
   "cell_type": "markdown",
   "metadata": {
    "id": "WTknh9pRVr0D"
   },
   "source": [
    "The perplexity of this bi-gram model after add-one smoothing are $616.761618$ on training data and $701.757009$ on dev data.\n",
    "\n",
    "This is the function to calculate the perplexity with add-one smoothing:\n",
    "$$ P^{*}_{Add-one}(w_n|w_{n-1})={{c(w_n,w_{n-1})+1} \\over {c(w_{n-1})+V}}$$\n",
    "\n",
    "For every $P^{*}_{Add-one}(w_n|w_{n-1})$ that $c(w_n,w_{n-1})$ equals zero, the probability is $ {1} \\over {c(w_{n-1})+V}$ rather than 0, which means that the model could also have the ability to predict those unseen sentences. Therefore, we can see from the result, the perplexity on the training data is increased significantly and that on the dev data is decreased a lot."
   ]
  },
  {
   "cell_type": "markdown",
   "metadata": {
    "id": "pTC0qJE8VVha"
   },
   "source": [
    "##### Optional: Add-k smoothing"
   ]
  },
  {
   "cell_type": "markdown",
   "metadata": {
    "id": "b3itGMOOVuNg"
   },
   "source": [
    "##### Code"
   ]
  },
  {
   "cell_type": "code",
   "execution_count": 16,
   "metadata": {
    "id": "jhcuJWo7VuNg"
   },
   "outputs": [],
   "source": [
    "from collections import defaultdict\n",
    "\n",
    "class AddKBigramModel:\n",
    "    def __init__(self,sentences,word_dic,word_count,k:float =1.0):\n",
    "        \n",
    "        self.word_dic = word_dic\n",
    "        self.count1 = word_count\n",
    "        self.count1 = np.append(self.count1,[len(sentences),len(sentences)])\n",
    "        self.V = len(self.count1)\n",
    "        self.k = k\n",
    "        self.count2 = self.__count(sentences)\n",
    "    \n",
    "    # with add-one smoothing\n",
    "    def __count(self,sentences):\n",
    "        count = defaultdict(int)\n",
    "        startpad,endpad = len(word_dic),len(word_dic)+1\n",
    "\n",
    "        for sen in sentences:\n",
    "            for (before,after) in bigrams(sen,pad_left=True, pad_right=True, left_pad_symbol=startpad, right_pad_symbol=endpad):\n",
    "                count[(before,after)] += 1\n",
    "        return count\n",
    "    \n",
    "    def P(self,before,after):\n",
    "        c = self.count2[(before,after)]+self.k\n",
    "        \n",
    "        return c/(self.count1[before]+self.k*self.V)\n",
    "        \n",
    "    \n",
    "    def ppl(self,filePath = \"\"):\n",
    "        f = open(filePath,\"r\",encoding=\"utf-8\")\n",
    "        su = 0.0\n",
    "        unkidx = word_dic[\"<UNK>\"]\n",
    "        M = 0\n",
    "        start_idx = len(self.word_dic)\n",
    "        endidx = start_idx+1\n",
    "        \n",
    "        for line in f.readlines():\n",
    "            line=line.strip()\n",
    "            words = line.split(\" \")\n",
    "            M += (len(words)+2)\n",
    "            # cur state at <s> which is start_idx\n",
    "            cur = start_idx\n",
    "            p = 0.0\n",
    "            fail = False\n",
    "            for word in words:\n",
    "                word = word.lower()\n",
    "                if word not in word_dic:\n",
    "                    nextstep = unkidx\n",
    "                else:\n",
    "                    nextstep = word_dic[word]\n",
    "                try:\n",
    "                    p += math.log2(self.P(cur,nextstep))\n",
    "                except ValueError:\n",
    "                    fail = True\n",
    "                    break\n",
    "                cur = nextstep\n",
    "            if not fail and self.P(cur,endidx)!=0:\n",
    "                p += math.log2(self.P(cur,endidx)) # for </s> multiply this probability\n",
    "                su += p\n",
    "            else:\n",
    "                su += float(\"-inf\")\n",
    "        f.close()\n",
    "        l = su/M\n",
    "        ppl = math.pow(2,-l)\n",
    "        print(\"the perplexity of this bi-gram model on %s is:%f\"%(filePath,ppl))\n",
    "            \n",
    "        "
   ]
  },
  {
   "cell_type": "markdown",
   "metadata": {},
   "source": [
    "try k=0.5, 0.05, 0.01 in the next block"
   ]
  },
  {
   "cell_type": "code",
   "execution_count": 18,
   "metadata": {},
   "outputs": [
    {
     "name": "stdout",
     "output_type": "stream",
     "text": [
      "k= 0.5\n",
      "the perplexity of this bi-gram model on ./data/lm/train.txt is:428.730279\n",
      "the perplexity of this bi-gram model on ./data/lm/dev.txt is:523.154802\n",
      "\n",
      "k= 0.05\n",
      "the perplexity of this bi-gram model on ./data/lm/train.txt is:152.856003\n",
      "the perplexity of this bi-gram model on ./data/lm/dev.txt is:253.474545\n",
      "\n",
      "k= 0.01\n",
      "the perplexity of this bi-gram model on ./data/lm/train.txt is:95.180805\n",
      "the perplexity of this bi-gram model on ./data/lm/dev.txt is:200.570883\n",
      "\n"
     ]
    }
   ],
   "source": [
    "klist = [0.5,0.05,0.01]\n",
    "\n",
    "for k in klist:\n",
    "    print(\"k=\",k)\n",
    "    t = AddKBigramModel(sentences,word_dic,word_count,k=k)\n",
    "    t.ppl(\"./data/lm/train.txt\")\n",
    "    t.ppl(\"./data/lm/dev.txt\")\n",
    "    del t # to save memory\n",
    "    print()\n",
    "# t = AddKBigramModel(sentences,word_dic,word_count,k=0.001)\n",
    "# t.ppl(\"./data/lm/train.txt\")\n",
    "# t.ppl(\"./data/lm/dev.txt\")"
   ]
  },
  {
   "cell_type": "markdown",
   "metadata": {
    "id": "AzpU_p6CVuNg"
   },
   "source": [
    "#### Discussion"
   ]
  },
  {
   "cell_type": "markdown",
   "metadata": {
    "id": "YIOUpNXYVuNh"
   },
   "source": [
    "||k=1(Add-One smoothing)|k=0.5|k=0.05|k=0.01|k=0(Original Bigram Model)|\n",
    "|----------------|--------------|-----------------|-----------------|-----------|------|\n",
    "|ppl on train set|$616.761618$|$428.730279$|$152.856003$|$95.180805$|$60.886884$|\n",
    "|ppl on dev set|$701.757009$|$523.154802$|$253.474545$|$200.570883$|$\\infty$|"
   ]
  },
  {
   "cell_type": "markdown",
   "metadata": {},
   "source": [
    "According to the data shown in the table above, the smaller k is, the lower perplexity is and the better model I have,especially when k=0.01. In bigram model, the perplexity is extremely high because in most cases the predict process is failed as the conditional probability is zero. After add-one smoothing, the algorithm move some probability to the zero part. But it seems that this probability is so big that it interferes the normal predict process. Hence, add-k smoothing decreases the moved probability by using a parameter k to make sure that every conditional probability could have a minimun probability which is ${{k} \\over {c(w_{n-1})+kV}}$. And in this case, the model works best when $k=0.01$."
   ]
  },
  {
   "cell_type": "markdown",
   "metadata": {
    "id": "zJFWxsN-Uj0Y"
   },
   "source": [
    "#### 1.3.2 Linear Interpolation"
   ]
  },
  {
   "cell_type": "markdown",
   "metadata": {
    "id": "hk11EpboWVCH"
   },
   "source": [
    "##### Code"
   ]
  },
  {
   "cell_type": "code",
   "execution_count": 75,
   "metadata": {
    "id": "K4N_XuN6WVCQ"
   },
   "outputs": [],
   "source": [
    "# a probability of a word is r1P1+r2P2+r3P3\n",
    "from nltk.util import trigrams\n",
    "from collections import defaultdict\n",
    "\n",
    "class LinearNGram:\n",
    "    def __init__(self, sentences:list, word_dic:dict,word_count:np.array,\n",
    "                r1,r2,r3) -> None:\n",
    "        self.word_dic = word_dic\n",
    "        R = r1+r2+r3\n",
    "        self.r = [r1/R,r2/R,r3/R]\n",
    "\n",
    "        self.count_matrix1 = defaultdict(int)\n",
    "        self.sum1 = sum(word_count)\n",
    "        for (id,num) in enumerate(word_count):\n",
    "            self.count_matrix1[id]=num        \n",
    "        self.V2 = len(self.count_matrix1)+2\n",
    "        self.V3 = self.V2**2\n",
    "\n",
    "        self.count_matrix2 = defaultdict(int)\n",
    "        self.count_matrix3 = defaultdict(int)\n",
    "        self.__genCount(sentences)\n",
    "    \n",
    "    def __genCount(self,sentences) :\n",
    "        startpad,endpad = len(self.word_dic),len(self.word_dic)+1\n",
    "\n",
    "        self.count_matrix1[startpad] = len(sentences)\n",
    "        self.count_matrix1[endpad] = len(sentences)\n",
    "\n",
    "        self.count_matrix2[(startpad,startpad)] = len(sentences)\n",
    "\n",
    "        for sen in sentences:\n",
    "            for (before,after) in bigrams(sen,pad_left=True, pad_right=True, left_pad_symbol=startpad, right_pad_symbol=endpad):\n",
    "                self.count_matrix2[(before,after)] += 1\n",
    "            for (before1,before2,after) in trigrams(sen,pad_left=True, pad_right=True, left_pad_symbol=startpad, right_pad_symbol=endpad):\n",
    "                self.count_matrix3[(before1,before2,after)] += 1\n",
    "\n",
    "    def _P1(self,word):\n",
    "        return self.count_matrix1[word]/self.sum1\n",
    "    \n",
    "    def _P2(self, w_before,w_after):\n",
    "        return self.count_matrix2[(w_before,w_after)]/self.count_matrix1[w_before]\n",
    "    \n",
    "    def _P3(self, w_before1,w_before2,w_after):\n",
    "        if self.count_matrix2[(w_before1,w_before2)] == 0:\n",
    "            return 0 \n",
    "        else:\n",
    "            return self.count_matrix3[(w_before1,w_before2,w_after)]/self.count_matrix2[(w_before1,w_before2)]\n",
    "\n",
    "    def P(self,w_before1,w_before2,w_after):\n",
    "        return self.r[0]*self._P1(w_after) + self.r[1]*self._P2(w_before2,w_after) + \\\n",
    "            self.r[2]*self._P3(w_before1,w_before2,w_after)\n",
    "    \n",
    "    def changeR(self,r1,r2,r3):\n",
    "        R = r1+r2+r3\n",
    "        self.r = [r1/R,r2/R,r3/R]\n",
    "\n",
    "    def cal_ppl(self,filePath = \"\"):\n",
    "        f = open(filePath,'r',encoding='utf-8')\n",
    "        unkidx = word_dic[\"<UNK>\"]\n",
    "        su = 0.0\n",
    "        M = 0\n",
    "        start_status = [len(self.word_dic)]*2\n",
    "        end_idx = len(self.word_dic)+1\n",
    "        for line in f.readlines():\n",
    "            line = line.strip()    # remove \\n\n",
    "            words = line.split(\" \")\n",
    "            M += (len(words)+4)\n",
    "            p = 0.0\n",
    "            before = start_status\n",
    "            for word in line.split(\" \"):\n",
    "                word = word.lower()\n",
    "                if word in self.word_dic:\n",
    "                    nextstep = self.word_dic[word]\n",
    "                else:\n",
    "                    nextstep = unkidx\n",
    "                \n",
    "                P = self.P(before[0],before[1],nextstep)\n",
    "                p += math.log2(P)\n",
    "                before[0],before[1] = before[1],nextstep\n",
    "            \n",
    "            # (word_n-1,word_n,end)\n",
    "            p += math.log2(self.P(before[0],before[1],end_idx))\n",
    "            # (word_n,end,end)\n",
    "            p += math.log2(self.P(before[1],end_idx,end_idx))\n",
    "            su += p\n",
    "        f.close()\n",
    "        l = su/M\n",
    "        ppl = math.pow(2,-l)\n",
    "        print(\"the perplexity of Linear Interpolation on %s is:%f\"%(filePath,ppl))\n",
    "        return ppl\n",
    "    "
   ]
  },
  {
   "cell_type": "code",
   "execution_count": 12,
   "metadata": {},
   "outputs": [
    {
     "name": "stdout",
     "output_type": "stream",
     "text": [
      "the perplexity of Linear Interpolation on ./data/lm/train.txt is:16.259040\n",
      "the perplexity of Linear Interpolation on ./data/lm/dev.txt is:109.440165\n"
     ]
    }
   ],
   "source": [
    "lin = LinearNGram(sentences,word_dic,word_count,1,1,1)\n",
    "_ = lin.cal_ppl(\"./data/lm/train.txt\")\n",
    "_ = lin.cal_ppl(\"./data/lm/dev.txt\")\n"
   ]
  },
  {
   "cell_type": "code",
   "execution_count": 51,
   "metadata": {},
   "outputs": [
    {
     "name": "stdout",
     "output_type": "stream",
     "text": [
      "the perplexity of Linear Interpolation on ./data/lm/train.txt is:132.354764\n",
      "the perplexity of Linear Interpolation on ./data/lm/dev.txt is:201.108227\n"
     ]
    }
   ],
   "source": [
    "lin.changeR(0.2,0.5,0.3)\n",
    "_ = lin.cal_ppl(\"./data/lm/train.txt\")\n",
    "_ = lin.cal_ppl(\"./data/lm/dev.txt\")"
   ]
  },
  {
   "cell_type": "code",
   "execution_count": 22,
   "metadata": {},
   "outputs": [
    {
     "name": "stdout",
     "output_type": "stream",
     "text": [
      "the perplexity of Linear Interpolation on ./data/lm/train.txt is:21.097855\n",
      "the perplexity of Linear Interpolation on ./data/lm/dev.txt is:109.763287\n"
     ]
    }
   ],
   "source": [
    "lin.changeR(0.4,0.4,0.2)\n",
    "_ = lin.cal_ppl(\"./data/lm/train.txt\")\n",
    "_ = lin.cal_ppl(\"./data/lm/dev.txt\")"
   ]
  },
  {
   "cell_type": "code",
   "execution_count": 23,
   "metadata": {},
   "outputs": [
    {
     "name": "stdout",
     "output_type": "stream",
     "text": [
      "the perplexity of Linear Interpolation on ./data/lm/train.txt is:14.748860\n",
      "the perplexity of Linear Interpolation on ./data/lm/dev.txt is:111.143467\n"
     ]
    }
   ],
   "source": [
    "lin.changeR(0.3,0.3,0.4)\n",
    "_ = lin.cal_ppl(\"./data/lm/train.txt\")\n",
    "_ = lin.cal_ppl(\"./data/lm/dev.txt\")"
   ]
  },
  {
   "cell_type": "code",
   "execution_count": 25,
   "metadata": {},
   "outputs": [
    {
     "name": "stdout",
     "output_type": "stream",
     "text": [
      "the perplexity of Linear Interpolation on ./data/lm/train.txt is:170.210268\n",
      "the perplexity of Linear Interpolation on ./data/lm/dev.txt is:308.730019\n"
     ]
    }
   ],
   "source": [
    "lin.changeR(0.99,0.005 ,0.005)\n",
    "_ = lin.cal_ppl(\"./data/lm/train.txt\")\n",
    "_ = lin.cal_ppl(\"./data/lm/dev.txt\")"
   ]
  },
  {
   "cell_type": "code",
   "execution_count": 26,
   "metadata": {},
   "outputs": [
    {
     "name": "stdout",
     "output_type": "stream",
     "text": [
      "the perplexity of Linear Interpolation on ./data/lm/train.txt is:54.929393\n",
      "the perplexity of Linear Interpolation on ./data/lm/dev.txt is:227.670777\n"
     ]
    }
   ],
   "source": [
    "lin.changeR(0.005,0.99,0.005)\n",
    "_ = lin.cal_ppl(\"./data/lm/train.txt\")\n",
    "_ = lin.cal_ppl(\"./data/lm/dev.txt\")"
   ]
  },
  {
   "cell_type": "code",
   "execution_count": 27,
   "metadata": {},
   "outputs": [
    {
     "name": "stdout",
     "output_type": "stream",
     "text": [
      "the perplexity of Linear Interpolation on ./data/lm/train.txt is:10.944311\n",
      "the perplexity of Linear Interpolation on ./data/lm/dev.txt is:709.194908\n"
     ]
    }
   ],
   "source": [
    "lin.changeR(0.005,0.005,0.99)\n",
    "_ = lin.cal_ppl(\"./data/lm/train.txt\")\n",
    "_ = lin.cal_ppl(\"./data/lm/dev.txt\")"
   ]
  },
  {
   "cell_type": "code",
   "execution_count": null,
   "metadata": {},
   "outputs": [
    {
     "name": "stdout",
     "output_type": "stream",
     "text": [
      "the perplexity of Linear Interpolation on ./data/lm/train.txt is:16.900118\n",
      "the perplexity of Linear Interpolation on ./data/lm/dev.txt is:107.828938\n"
     ]
    }
   ],
   "source": [
    "lin.changeR(0.05,0.45,0.5)\n",
    "_ = lin.cal_ppl(\"./data/lm/train.txt\")\n",
    "_ = lin.cal_ppl(\"./data/lm/dev.txt\")"
   ]
  },
  {
   "cell_type": "markdown",
   "metadata": {
    "id": "Kh8v2P36WVCQ"
   },
   "source": [
    "##### Discussion"
   ]
  },
  {
   "cell_type": "markdown",
   "metadata": {
    "id": "bGkf6IV0WVCQ"
   },
   "source": [
    "When R=[0.3,0.4,0.3], the perplexity on train set and dev set are smallest, which are:$16.900118$ and $107.828938$ respectively. Actually, during my test, I find that the perplexity on train set is mainly influenced by trigram model and bigram model, while the trigram model seems to have a more significant effect on that. And unigram model seems to have a more significant effect on the perplexity on dev set, which means that unigram have a effect on predicting unseen words. With the limitation of bigram model, the perplexity on dev set could decrease to 114.909482 in the case R=[0.3,0.4,0.3]. "
   ]
  },
  {
   "cell_type": "markdown",
   "metadata": {
    "id": "wvgTZcNFVato"
   },
   "source": [
    "##### Optional: Optimization"
   ]
  },
  {
   "cell_type": "code",
   "execution_count": 76,
   "metadata": {},
   "outputs": [],
   "source": [
    "class LinearNGramWIthGrad(LinearNGram):\n",
    "    def __init__(self, sentences:list, word_dic:dict,word_count:np.array,r1,r2,r3,learning_rate:float = 0.00001):\n",
    "        super(LinearNGramWIthGrad, self).__init__(sentences, word_dic, word_count, r1,r2,r3)\n",
    "        self.learning_rate = learning_rate\n",
    "        self.partial = [0.0,0.0,0.0]\n",
    "    \n",
    "    def __addpartical(self,w_before1,w_before2,w_after):\n",
    "        P = self.P(w_before1,w_before2,w_after)\n",
    "        ln2 = math.log(2)\n",
    "        P1=self._P1(w_after)\n",
    "        P2=self._P2(w_before2,w_after)\n",
    "        P3=self._P3(w_before1,w_before2,w_after)\n",
    "        self.partial[0]+=((P1-P2)/P/ln2)\n",
    "        self.partial[1]+=((P2-P3)/P/ln2)\n",
    "        self.partial[2]+=((P3-P1)/P/ln2)\n",
    "    \n",
    "    def calDescent(self,ppl,M):\n",
    "        tmp = ppl*(-1/M)*math.log(2)*self.learning_rate\n",
    "        descent = [tmp*each for each in self.partial]\n",
    "        self.partial = [0.0,0.0,0.0]\n",
    "        return descent\n",
    "    \n",
    "    def adjustRwithDesc(self,descent):\n",
    "        print(\"Original R:\",self.r,end=\"--->\")\n",
    "        self.r[0] -= descent[0]\n",
    "        self.r[1] -= descent[1]\n",
    "        self.r[2] -= descent[2]\n",
    "        R = sum(self.r)\n",
    "        for i in range(3):\n",
    "            self.r[i] /= R\n",
    "        print(self.r)\n",
    "    \n",
    "    def cal_ppl(self,filePath = \"\"):\n",
    "        f = open(filePath,'r',encoding='utf-8')\n",
    "        unkidx = word_dic[\"<UNK>\"]\n",
    "        su = 0.0\n",
    "        M = 0\n",
    "        start_status = [len(self.word_dic)]*2\n",
    "        end_idx = len(self.word_dic)+1\n",
    "        for line in f.readlines():\n",
    "            line = line.strip()    # remove \\n\n",
    "            words = line.split(\" \")\n",
    "            M += (len(words)+4)\n",
    "            p = 0.0\n",
    "            before = start_status\n",
    "            for word in line.split(\" \"):\n",
    "                word = word.lower()\n",
    "                if word in self.word_dic:\n",
    "                    nextstep = self.word_dic[word]\n",
    "                else:\n",
    "                    nextstep = unkidx\n",
    "                \n",
    "                prop = self.P(before[0],before[1],nextstep)\n",
    "                p += math.log2(prop)\n",
    "\n",
    "                self.__addpartical(before[0],before[1],nextstep)\n",
    "\n",
    "                before[0],before[1] = before[1],nextstep\n",
    "            \n",
    "            # (word_n-1,word_n,end)\n",
    "            p += math.log2(self.P(before[0],before[1],end_idx))\n",
    "            self.__addpartical(before[0],before[1],end_idx)\n",
    "            # (word_n,end,end)\n",
    "            p += math.log2(self.P(before[1],end_idx,end_idx))\n",
    "            self.__addpartical(before[1],end_idx,end_idx)\n",
    "            su += p\n",
    "        f.close()\n",
    "        l = su/M\n",
    "        ppl = math.pow(2,-l)\n",
    "        print(\"the perplexity of Linear Interpolation on %s is:%f\"%(filePath,ppl))\n",
    "\n",
    "        descent = self.calDescent(ppl,M)\n",
    "        print(\"descent gradient descent search result:\", descent)\n",
    "    \n",
    "        return (ppl,descent)\n",
    "    \n"
   ]
  },
  {
   "cell_type": "code",
   "execution_count": 77,
   "metadata": {},
   "outputs": [
    {
     "name": "stdout",
     "output_type": "stream",
     "text": [
      "the perplexity of Linear Interpolation on ./data/lm/dev.txt is:131.527135\n",
      "descent gradient descent search result: [-0.3679204719273557, -0.05084732597242236, 0.418767797899712]\n",
      "Turn  0\n",
      "the perplexity of Linear Interpolation on ./data/lm/train.txt is:12.848475\n",
      "descent gradient descent search result: [-0.004278327878200014, 0.012295337391176681, -0.008017009512960967]\n",
      "Original R: [0.05, 0.45, 0.5]--->[0.05427832787820087, 0.43770466260883023, 0.5080170095129689]\n",
      "the perplexity of Linear Interpolation on ./data/lm/dev.txt is:130.455333\n",
      "descent gradient descent search result: [-0.3288693872766703, -0.05305090008528502, 0.3819202873619145]\n",
      "Turn  1\n",
      "the perplexity of Linear Interpolation on ./data/lm/train.txt is:12.734272\n",
      "descent gradient descent search result: [-0.0036062881555488026, 0.011998679131213172, -0.008392390975669994]\n",
      "Original R: [0.05427832787820087, 0.43770466260883023, 0.5080170095129689]--->[0.057884616033749337, 0.4257059834776146, 0.5164094004886359]\n",
      "the perplexity of Linear Interpolation on ./data/lm/dev.txt is:129.776930\n",
      "descent gradient descent search result: [-0.3005553100954083, -0.05550535591979392, 0.3560606660153371]\n",
      "Turn  2\n",
      "the perplexity of Linear Interpolation on ./data/lm/train.txt is:12.622732\n",
      "descent gradient descent search result: [-0.0031118770650564094, 0.011701957253300721, -0.008590080188227574]\n",
      "Original R: [0.057884616033749337, 0.4257059834776146, 0.5164094004886359]--->[0.060996493098806774, 0.4140040262243209, 0.5249994806768724]\n",
      "the perplexity of Linear Interpolation on ./data/lm/dev.txt is:129.364106\n",
      "descent gradient descent search result: [-0.27881094425344854, -0.05814837117003241, 0.33695931542346563]\n",
      "Turn  3\n",
      "the perplexity of Linear Interpolation on ./data/lm/train.txt is:12.514394\n",
      "descent gradient descent search result: [-0.002728890172631835, 0.011410299162983547, -0.008681408990353768]\n",
      "Original R: [0.060996493098806774, 0.4140040262243209, 0.5249994806768724]--->[0.06372538327143847, 0.4025937270613365, 0.5336808896672249]\n",
      "the perplexity of Linear Interpolation on ./data/lm/dev.txt is:129.144177\n",
      "descent gradient descent search result: [-0.2614228823891938, -0.060947366865389596, 0.3223702492546275]\n",
      "Turn  4\n",
      "the perplexity of Linear Interpolation on ./data/lm/train.txt is:12.409555\n",
      "descent gradient descent search result: [-0.002421332355895575, 0.011126377380653836, -0.008705045024777303]\n",
      "Original R: [0.06372538327143847, 0.4025937270613365, 0.5336808896672249]--->[0.06614671562733279, 0.39146734968067526, 0.542385934691992]\n",
      "the perplexity of Linear Interpolation on ./data/lm/dev.txt is:129.071965\n",
      "descent gradient descent search result: [-0.2470903759133201, -0.06388482311550459, 0.3109751990289918]\n",
      "Turn  5\n",
      "the perplexity of Linear Interpolation on ./data/lm/train.txt is:12.308350\n",
      "descent gradient descent search result: [-0.002167629704011069, 0.010851533391770895, -0.008683903687751023]\n",
      "Original R: [0.06614671562733279, 0.39146734968067526, 0.542385934691992]--->[0.06831434533134446, 0.3806158162889076, 0.5510698383797479]\n",
      "the perplexity of Linear Interpolation on ./data/lm/dev.txt is:129.117575\n",
      "descent gradient descent search result: [-0.23499163179079238, -0.06695172253079994, 0.3019433543214679]\n",
      "Turn  6\n",
      "the perplexity of Linear Interpolation on ./data/lm/train.txt is:12.210809\n",
      "descent gradient descent search result: [-0.0019539229877064165, 0.010586343179036227, -0.00863242019133519]\n",
      "Original R: [0.06831434533134446, 0.3806158162889076, 0.5510698383797479]--->[0.0702682683190505, 0.3700294731098694, 0.55970225857108]\n",
      "the perplexity of Linear Interpolation on ./data/lm/dev.txt is:129.260290\n",
      "descent gradient descent search result: [-0.22457821890158305, -0.0701442601198821, 0.29472247902156173]\n",
      "Turn  7\n",
      "the perplexity of Linear Interpolation on ./data/lm/train.txt is:12.116894\n",
      "descent gradient descent search result: [-0.0017708326856721206, 0.010330928507082603, -0.008560095821405678]\n",
      "Original R: [0.0702682683190505, 0.3700294731098694, 0.55970225857108]--->[0.07203910100472297, 0.35969854460278855, 0.5682623543924885]\n",
      "the perplexity of Linear Interpolation on ./data/lm/dev.txt is:129.485236\n",
      "descent gradient descent search result: [-0.21546798464885075, -0.07346205207882871, 0.28893003672771783]\n",
      "Turn  8\n",
      "the perplexity of Linear Interpolation on ./data/lm/train.txt is:12.026523\n",
      "descent gradient descent search result: [-0.0016117473322851538, 0.010085138533861457, -0.008473391201542406]\n",
      "Original R: [0.07203910100472297, 0.35969854460278855, 0.5682623543924885]--->[0.0736508483370106, 0.3496134060689389, 0.5767357455940504]\n",
      "the perplexity of Linear Interpolation on ./data/lm/dev.txt is:129.781444\n",
      "descent gradient descent search result: [-0.20738511075396182, -0.07690710223138408, 0.2842922129853533]\n",
      "-------------------------------------------------\n",
      "Best Turn 4\n",
      "ppl on train set 12.409555\n",
      "ppl on dev set 129.071965\n",
      "hyper parameter is  [0.06614671562733279, 0.39146734968067526, 0.542385934691992]\n",
      "\n",
      "\n",
      "Test on test set\n"
     ]
    }
   ],
   "source": [
    "grad = LinearNGramWIthGrad(sentences,word_dic,word_count,0.05,0.45,0.5,0.001)\n",
    "bestR = []\n",
    "minppldev,_ = grad.cal_ppl(\"./data/lm/dev.txt\")\n",
    "grad.partial = [0.0]*3\n",
    "ppltrain = 0\n",
    "bestT = 0\n",
    "for i in range(9):\n",
    "    print(\"Turn \",i,)\n",
    "    ppl,descent = grad.cal_ppl(\"./data/lm/train.txt\")\n",
    "    grad.adjustRwithDesc(descent)\n",
    "    ppl_dev,_ = grad.cal_ppl(\"./data/lm/dev.txt\")\n",
    "    if ppl_dev<minppldev:\n",
    "        bestT = i\n",
    "        bestR = grad.r[:]\n",
    "        minppldev = ppl_dev\n",
    "        ppltrain = ppl\n",
    "print(\"-------------------------------------------------\")\n",
    "print(\"Best Turn %d\\n\\rppl on train set %f\\n\\rppl on dev set %f\\n\\rhyper parameter is \"%(bestT,ppltrain,minppldev),bestR)\n",
    "print(\"\\n\\nTest on test set\")\n",
    "grad = LinearNGramWIthGrad(sentences,word_dic,word_count,bestR[0],bestR[1],bestR[2])\n",
    "ppl,_ = grad.cal_ppl(\"./data/lm/test.txt\")\n",
    "print(\"ppl on test set is: %f\" % ppl)\n",
    "\n"
   ]
  },
  {
   "cell_type": "markdown",
   "metadata": {
    "id": "zKnXu98hWcfu"
   },
   "source": [
    "##### Discussion"
   ]
  },
  {
   "cell_type": "markdown",
   "metadata": {
    "id": "fKo4ZLASWcfu"
   },
   "source": [
    "Three are several ways to get the local optimum paramaters like parametric sweep, gradient descent search, or using $\\lambda$ matrix. Here I would like to use gradient descent in my model.\n",
    "Actually, the function to calculate the perplexity is:\n",
    "$$ ppl = 2^{-l} $$\n",
    "$$ l = {{{1} \\over {M}}  \\sum^{m}_{i=1} \\sum^{n}_{j=0} \\log_{2}{p^{*}(w_j|w_{j-1},w_{j-2})}} $$\n",
    "$$ p^{*}(w_j|w_{j-1},w_{j-2}) = \\lambda_1P(w_j)+\\lambda_2P(w_j|w_{j-1})+ \\lambda_3P(w_j|w_{j-1},w_{j-2})$$ \n",
    "$$ \\lambda_1+\\lambda_2+\\lambda_3=1 $$\n",
    "So, we can get the partial derivative of perplexity about $\\lambda_1,\\lambda_2,\\lambda_3$ like this:\n",
    "$$ {{\\partial ppl} \\over {\\partial \\lambda_1}} = -{{1}\\over M}*ppl*\\log 2*\\sum^{m}_{i=1} \\sum^{n}_{j=0} {{P(w_j)-P(w_j|w_{j-1})} \\over {p^{*}(w_j|w_{j-1},w_{j-2})*\\log 2}} $$\n",
    "$$ {{\\partial ppl} \\over {\\partial \\lambda_2}} = -{{1}\\over M}*ppl*\\log 2*\\sum^{m}_{i=1} \\sum^{n}_{j=0} {{P(w_j|w_{j-1})-P(w_j|w_{j-1},w_{j-2})} \\over {p^{*}(w_j|w_{j-1},w_{j-2})*\\log 2}} $$\n",
    "$$ {{\\partial ppl} \\over {\\partial \\lambda_3}} = -{{1}\\over M}*ppl*\\log 2*\\sum^{m}_{i=1} \\sum^{n}_{j=0} {{P(w_j|w_{j-1},w_{j-2})-P(w_j)} \\over {p^{*}(w_j|w_{j-1},w_{j-2})*\\log 2}} $$\n",
    "And it is easy to know that ${{\\partial ppl} \\over {\\partial \\lambda_1}}+{{\\partial ppl} \\over {\\partial \\lambda_2}}+{{\\partial ppl} \\over {\\partial \\lambda_3}}=0$, which can make sure that the adjustment would not break the normalization. The adjust functional is listed below:\n",
    "$$ \\lambda_1^{,} = \\lambda_1-LearningRate*{{\\partial ppl} \\over {\\partial \\lambda_1}} $$\n",
    "$$ \\lambda_2^{,} = \\lambda_2-LearningRate*{{\\partial ppl} \\over {\\partial \\lambda_2}} $$\n",
    "$$ \\lambda_3^{,} = \\lambda_3-LearningRate*{{\\partial ppl} \\over {\\partial \\lambda_3}} $$"
   ]
  },
  {
   "cell_type": "markdown",
   "metadata": {},
   "source": [
    "During the examination of the gradient descent process, the perplexity on training set decreases in every turn and the perplexity on the test set have a different trend. So at last I choose a group of superparameters that has the lowest perplexity on test set. The hyperparameters I choose are $[0.2589453005798403, 0.23756411382677395, 0.5034905855933857]$.\n",
    "<!!!!>"
   ]
  },
  {
   "cell_type": "markdown",
   "metadata": {
    "id": "3E8xYXuCUoAR"
   },
   "source": [
    "## 2 Preposition Prediction"
   ]
  },
  {
   "cell_type": "code",
   "execution_count": null,
   "metadata": {
    "id": "gewisxM5W5kQ"
   },
   "outputs": [],
   "source": [
    "!wget -O dev.in https://raw.githubusercontent.com/ranpox/comp7607-fall2022/main/assignments/A1/data/prep/dev.in\n",
    "!wget -O dev.out https://raw.githubusercontent.com/ranpox/comp7607-fall2022/main/assignments/A1/data/prep/dev.out"
   ]
  },
  {
   "cell_type": "code",
   "execution_count": 61,
   "metadata": {},
   "outputs": [],
   "source": [
    "class LinearNGramwithAddK(LinearNGram):\n",
    "    def __init__(self,  sentences:list, word_dic:dict,word_count:np.array,\n",
    "                r1,r2,r3,k2,k3):\n",
    "        super(LinearNGramwithAddK, self).__init__(sentences, word_dic, word_count, r1,r2,r3)\n",
    "        self.V2 = len(self.word_dic)+2\n",
    "        self.V3 = self.V2**2\n",
    "        self.k2 = k2\n",
    "        self.k3 = k3\n",
    "    \n",
    "    def _P2(self, w_before,w_after):\n",
    "        return (self.count_matrix2[(w_before,w_after)]+self.k2)/(self.count_matrix1[w_before]+self.k2*self.V2)\n",
    "    \n",
    "    def _P3(self, w_before1,w_before2,w_after):\n",
    "        unkidx = self.word_dic[\"<UNK>\"]\n",
    "        if self.count_matrix2[(w_before1,w_before2)]==0:\n",
    "            return self.k3/(self.count_matrix2[(unkidx,unkidx)]+self.k3*self.V3)\n",
    "        else:\n",
    "            return (self.count_matrix3[(w_before1,w_before2,w_after)]+self.k3)/(self.count_matrix2[(w_before1,w_before2)]+self.k3*self.V3)\n"
   ]
  },
  {
   "cell_type": "code",
   "execution_count": 20,
   "metadata": {},
   "outputs": [],
   "source": [
    "import random\n",
    "\n",
    "\n",
    "def predict(model :LinearNGram,FilePath:string):\n",
    "    word_predict = [\"at\",\"in\",\"of\",\"on\",\"for\"]\n",
    "    f = open(FilePath,\"r\",encoding=\"utf-8\")\n",
    "    startpad,endpad = len(model.word_dic),len(model.word_dic)+1\n",
    "    ret = []\n",
    "    for line in f.readlines():\n",
    "        line = line.strip()\n",
    "        words = line.split(\" \")\n",
    "        \n",
    "        line_pre = []\n",
    "        for (idx,w) in enumerate(words):\n",
    "            if w != \"<PREP>\":\n",
    "                continue\n",
    "            w = w.lower()\n",
    "            before1,before2 = 0,0\n",
    "            if idx == 0:\n",
    "                before1,before2 = startpad,startpad\n",
    "            elif idx ==1:\n",
    "                if words[idx-1].lower() in model.word_dic:\n",
    "                    before1,before2 = startpad,model.word_dic[words[idx-1].lower()]\n",
    "                else:\n",
    "                    before1,before2 = startpad,model.word_dic[\"<UNK>\"]\n",
    "            else:\n",
    "                if words[idx-2].lower() in model.word_dic:\n",
    "                    before1 = model.word_dic[words[idx-2].lower()]\n",
    "                else:\n",
    "                    before1 = model.word_dic[\"<UNK>\"]\n",
    "                if words[idx-1].lower() in model.word_dic:\n",
    "                    before2 = model.word_dic[words[idx-1].lower()]\n",
    "                else:\n",
    "                    before2 = model.word_dic[\"<UNK>\"]\n",
    "            predic = \"\"\n",
    "            # choose max P\n",
    "            maxp = float('-inf')\n",
    "            for wp in word_predict:\n",
    "                if maxp < model.P(before1,before2,model.word_dic[wp]):\n",
    "                    # print(before1,before2,wp)\n",
    "                    maxp = model.P(before1,before2,model.word_dic[wp])\n",
    "                    predic = wp\n",
    "\n",
    "            # random choose\n",
    "            # weight = [model.P(before1,before2,model.word_dic[wp]) for wp in word_predict]\n",
    "            # predic = random.choices(word_predict,weight,k=1)[0]\n",
    "            \n",
    "            line_pre.append(predic)\n",
    "        ret.append(line_pre[:])\n",
    "    f.close()\n",
    "    return ret\n",
    "\n",
    "def cal_correct(preResult, OutPath:string):\n",
    "    f = open(OutPath,'r',encoding = 'utf-8')\n",
    "    i = 0\n",
    "    total_num = 0\n",
    "    correct_num = 0\n",
    "    for (idx,line) in enumerate(f.readlines()):\n",
    "        line = line.strip()\n",
    "        words = line.split(\" \")\n",
    "        if len(words)!=len(preResult[idx]):\n",
    "            raise Exception(\"Invalaid input: number of input incorrect\")\n",
    "        for i in range(len(words)):\n",
    "            total_num += 1\n",
    "            if words[i] == preResult[idx][i]:\n",
    "                correct_num +=1\n",
    "    print(\"correct rate:\",correct_num/total_num)\n",
    "    f.close()\n",
    "\n",
    "def saveFile(preResult,outPath:string):\n",
    "    f = open(outPath,'w+',encoding = 'utf-8')\n",
    "    for res in preResult:\n",
    "        f.write(\" \".join(res)+\"\\n\")\n",
    "    f.close()\n"
   ]
  },
  {
   "cell_type": "code",
   "execution_count": 18,
   "metadata": {},
   "outputs": [
    {
     "name": "stdout",
     "output_type": "stream",
     "text": [
      "correct rate: 0.7104976389393389\n"
     ]
    }
   ],
   "source": [
    "# model = LinearNGramWIthGrad(sentences,word_dic,word_count,0.2589453005798403, 0.23756411382677395, 0.5034905855933857) # 0.7108608790410461\n",
    "# model = LinearNGramWIthGrad(sentences,word_dic,word_count,0.2611596272077737, 0.17794749972776083, 0.5608928730644654)# 0.7083181983290955\n",
    "# model = LinearNGramWIthGrad(sentences,word_dic,word_count,0.3,0.4,0.3) # 0.7072284780239738\n",
    "model = LinearNGramWIthGrad(sentences,word_dic,word_count,0.26100534260240027, 0.23737550895226364, 0.5016191484453362) # 0.7104976389393389\n",
    "\n",
    "result = predict(model,FilePath=\"./data/prep/dev.in\")\n",
    "# print(result)\n",
    "cal_correct(result,OutPath=\"./data/prep/dev.out\")\n",
    "# saveFile(result,outPath=\"./test.out\")"
   ]
  },
  {
   "cell_type": "code",
   "execution_count": 71,
   "metadata": {},
   "outputs": [
    {
     "name": "stdout",
     "output_type": "stream",
     "text": [
      "the perplexity of Linear Interpolation on ./data/lm/test.txt is:190.321539\n",
      "correct rate: 0.7075917181256811\n"
     ]
    }
   ],
   "source": [
    "# model = LinearNGramwithAddK(sentences,word_dic,word_count,0.26100534260240027, 0.23737550895226364, 0.5016191484453362,\n",
    "#                             k2 = 1e-3, k3 = 1e-8)\n",
    "# model = LinearNGramwithAddK(sentences,word_dic,word_count,0.027, 0.3, 0.673,\n",
    "#                             k2 = 1e-3, k3 = 1e-8)# 0.719215\n",
    "model = LinearNGramwithAddK(sentences,word_dic,word_count,0.0927832787820147, 0.32704662608828455, 0.5801700951297007,\n",
    "            k2 = 1e-3, k3 = 1e-6)\n",
    "model.cal_ppl(\"./data/lm/test.txt\")\n",
    "result = predict(model,FilePath=\"./data/prep/dev.in\")\n",
    "cal_correct(result,OutPath=\"./data/prep/dev.out\")\n"
   ]
  }
 ],
 "metadata": {
  "colab": {
   "provenance": [],
   "toc_visible": true
  },
  "kernelspec": {
   "display_name": "Python 3.6.7 64-bit",
   "language": "python",
   "name": "python3"
  },
  "language_info": {
   "codemirror_mode": {
    "name": "ipython",
    "version": 3
   },
   "file_extension": ".py",
   "mimetype": "text/x-python",
   "name": "python",
   "nbconvert_exporter": "python",
   "pygments_lexer": "ipython3",
   "version": "3.6.7"
  },
  "vscode": {
   "interpreter": {
    "hash": "e450050b432e843bda3c41bf3272c133bfc370a7003f3e377e27f87a49ce1127"
   }
  }
 },
 "nbformat": 4,
 "nbformat_minor": 0
}
